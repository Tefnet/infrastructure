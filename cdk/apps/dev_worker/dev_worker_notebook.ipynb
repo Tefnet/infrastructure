{
 "cells": [
  {
   "cell_type": "markdown",
   "metadata": {},
   "source": [
    "# This is my notebook"
   ]
  },
  {
   "cell_type": "markdown",
   "metadata": {},
   "source": [
    "# Setup"
   ]
  },
  {
   "cell_type": "code",
   "execution_count": null,
   "metadata": {},
   "outputs": [],
   "source": [
    "# Setup\n",
    "import os\n",
    "import subprocess\n",
    "\n",
    "# For traversing files\n",
    "from pathlib import Path\n",
    "\n",
    "# For logging\n",
    "import logging\n",
    "import sys\n",
    "\n",
    "# For saving notebook\n",
    "from IPython.display import display, Javascript\n",
    "\n",
    "# For other amazon shortcuts\n",
    "import json\n",
    "import tempfile\n",
    "import shlex\n",
    "import re"
   ]
  },
  {
   "cell_type": "markdown",
   "metadata": {},
   "source": [
    "## Logger"
   ]
  },
  {
   "cell_type": "code",
   "execution_count": null,
   "metadata": {},
   "outputs": [],
   "source": [
    "# Create logger\n",
    "logger = logging.getLogger()\n",
    "logger.setLevel(logging.INFO)\n",
    "\n",
    "# Create STDERR handler\n",
    "handler = logging.StreamHandler(sys.stderr)\n",
    "# Uncomment to set logLevel to debug\n",
    "# ch.setLevel(logging.DEBUG)\n",
    "\n",
    "# Create formatter and add it to the handler\n",
    "formatter = logging.Formatter('%(name)s - %(levelname)s - %(message)s')\n",
    "handler.setFormatter(formatter)\n",
    "\n",
    "# Set STDERR handler as the only handler \n",
    "logger.handlers = [handler]"
   ]
  },
  {
   "cell_type": "markdown",
   "metadata": {},
   "source": [
    "## AWS Shortcuts"
   ]
  },
  {
   "cell_type": "code",
   "execution_count": null,
   "metadata": {
    "collapsed": true
   },
   "outputs": [],
   "source": [
    "# AWS short-cuts\n",
    "def get_aws_attribute(attribute_name):\n",
    "    \"\"\"\n",
    "    Available attributes\n",
    "    \"accountId\", \"architecture\", \"availabilityZone\", \"billingProducts\", \n",
    "    \"devpayProductCodes\", \"marketplaceProductCodes\", \"imageId\", \"instanceId\", \n",
    "    \"instanceType\", \"kernelId\", \"pendingTime\", \n",
    "    \"privateIp\", \"ramdiskId\", \"region\", \"version\",\n",
    "    :param attribute_name: \n",
    "    :return: \n",
    "    \"\"\"\n",
    "    \n",
    "    # Use subprocess to get an attribute from 169.254.169.254\n",
    "    document_url = \"http://169.254.169.254/latest/dynamic/instance-identity/document\"\n",
    "    get_aws_attribute_command = [\"curl\", \"-s\", document_url]\n",
    "    get_aws_attribute_proc = subprocess.run(get_aws_attribute_command, capture_output=True)\n",
    "\n",
    "    get_aws_attribute_proc__stdout = get_aws_attribute_proc.stdout.decode()\n",
    "    get_aws_attribute_proc__stderr = get_aws_attribute_proc.stderr.decode()\n",
    "    \n",
    "    if not get_aws_attribute_proc.returncode == 0:\n",
    "        logger.error(\"Got non-zero exit code running curl command to document\")\n",
    "        logger.error(\"Stdout: {}\".format(get_aws_attribute_proc__stdout))\n",
    "        logger.error(\"Stderr: {}\".format(get_aws_attribute_proc__stderr))\n",
    "        return None\n",
    "    \n",
    "    # Successful curl command\n",
    "    get_aws_attribute_proc__stdout_as_json = json.loads(get_aws_attribute_proc__stdout.strip())\n",
    "    \n",
    "    # Ensure the attribute is actually there    \n",
    "    if attribute_name not in get_aws_attribute_proc__stdout_as_json.keys():\n",
    "        logger.error(\"Could not find {} attribute from {}\".format(attribute_name, document_url))\n",
    "        logger.error(\"Returning none\")\n",
    "        return None\n",
    "    else:\n",
    "        return get_aws_attribute_proc__stdout_as_json[attribute_name]\n",
    "\n",
    "def get_this_instance_id():\n",
    "    \"\"\"\n",
    "    Use get_aws_attribute function to get this instance Id\n",
    "    :return: \n",
    "    \"\"\"\n",
    "    instance_id = get_aws_attribute(\"instanceId\")\n",
    "    return instance_id\n",
    "\n",
    "def get_this_region():\n",
    "    \"\"\"\n",
    "    Use get_aws_attribute function to get this region\n",
    "    :return: \n",
    "    \"\"\"\n",
    "    availability_zone = get_aws_attribute(\"availabilityZone\")\n",
    "    \n",
    "    re_compile = re.compile(\"^(\\S+)-(\\S+)-(\\d+)(?:\\S+)$\")\n",
    "    \n",
    "    re_match = re.match(re_compile, availability_zone)\n",
    "    \n",
    "    if re_match is not None:\n",
    "        region = '-'.join([re_match.group(1), re_match.group(2), re_match.group(3)])\n",
    "    else:\n",
    "        logger.warning(\"Couldn't get a match to region\")\n",
    "        region = None\n",
    "        \n",
    "    return region\n",
    "\n",
    "def stop_it_this_instance():\n",
    "    \"\"\"\n",
    "    Stop the instance from inside the notebook.\n",
    "    Use the at command to schedule this for one minute in advance\n",
    "    Useful if you've just run a long bit of code and want to let the instance rest afterwards\n",
    "    :return: \n",
    "    \"\"\"\n",
    "    \n",
    "    # Stop command\n",
    "    stop_command = ['sudo', 'halt']\n",
    "    \n",
    "    # Write stop command to tmp file\n",
    "    stop_command_fobj = tempfile.NamedTemporaryFile(delete=False)\n",
    "    with open(stop_command_fobj.name, 'w') as stop_command_fh:\n",
    "        # Add shebang\n",
    "        stop_command_fh.write(\"#!/bin/bash\\n\")\n",
    "        stop_command_fh.write(\" \".join([shlex.quote(command_arg) \n",
    "                                        for command_arg in stop_command]))\n",
    "        stop_command_fh.write(\"\\n\")\n",
    "    \n",
    "    # Run proc, via at command, program to shut down in one minute\n",
    "    at_command = [\"at\", \"now\", \"+\", \"2\", \"minute\", \"-f\", stop_command_fobj.name]\n",
    "    \n",
    "    at_proc = subprocess.run(at_command, capture_output=True)\n",
    "    \n",
    "    if not at_proc.returncode == 0:\n",
    "        logger.error(\"At comment returned with non-zero exit value\")\n",
    "        logger.error(at_proc.stdout.decode())\n",
    "        logger.error(at_proc.stderr.decode())\n",
    "    else:\n",
    "        logger.info(\"Shutdown successfully activated for somewhere between 60 and 120 seconds time\")\n",
    "    \n",
    "    return at_proc.returncode"
   ]
  },
  {
   "cell_type": "markdown",
   "metadata": {},
   "source": [
    "# Content goes here"
   ]
  },
  {
   "cell_type": "code",
   "execution_count": 13,
   "metadata": {},
   "outputs": [
    {
     "data": {
      "application/javascript": [
       "IPython.notebook.save_notebook()\n",
       "console.log(\"EH HO\")\n"
      ],
      "text/plain": [
       "<IPython.core.display.Javascript object>"
      ]
     },
     "metadata": {},
     "output_type": "display_data"
    }
   ],
   "source": [
    "%%javascript\n",
    "IPython.notebook.save_notebook()"
   ]
  },
  {
   "cell_type": "code",
   "execution_count": null,
   "metadata": {},
   "outputs": [],
   "source": [
    "# Auto-shutdown - if on a non spot-instance\n",
    "stop_it_this_instance()"
   ]
  }
 ],
 "metadata": {
  "kernelspec": {
   "display_name": "Python 3",
   "language": "python",
   "name": "python3"
  },
  "language_info": {
   "codemirror_mode": {
    "name": "ipython",
    "version": 3
   },
   "file_extension": ".py",
   "mimetype": "text/x-python",
   "name": "python",
   "nbconvert_exporter": "python",
   "pygments_lexer": "ipython3",
   "version": "3.7.7"
  },
  "pycharm": {
   "stem_cell": {
    "cell_type": "raw",
    "source": [],
    "metadata": {
     "collapsed": false
    }
   }
  }
 },
 "nbformat": 4,
 "nbformat_minor": 1
}